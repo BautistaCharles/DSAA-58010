{
  "nbformat": 4,
  "nbformat_minor": 0,
  "metadata": {
    "colab": {
      "provenance": [],
      "authorship_tag": "ABX9TyMexGgoY9kAH6nAh5X1Hk4O",
      "include_colab_link": true
    },
    "kernelspec": {
      "name": "python3",
      "display_name": "Python 3"
    },
    "language_info": {
      "name": "python"
    }
  },
  "cells": [
    {
      "cell_type": "markdown",
      "metadata": {
        "id": "view-in-github",
        "colab_type": "text"
      },
      "source": [
        "<a href=\"https://colab.research.google.com/github/BautistaCharles/DSAA-58010/blob/main/longquiz2.ipynb\" target=\"_parent\"><img src=\"https://colab.research.google.com/assets/colab-badge.svg\" alt=\"Open In Colab\"/></a>"
      ]
    },
    {
      "cell_type": "code",
      "execution_count": 2,
      "metadata": {
        "colab": {
          "base_uri": "https://localhost:8080/"
        },
        "id": "5VpWZvb4NiUx",
        "outputId": "bb9fcae3-4e1a-409f-a76d-7ad8df3133e1"
      },
      "outputs": [
        {
          "output_type": "stream",
          "name": "stdout",
          "text": [
            "[{'i', 'e'}, {'k', 'e'}, {'e', 'j'}, {'e', 'm'}, {'f', 'j'}, {'i', 'f'}, {'f', 'k'}, {'f', 'p'}, {'i', 'h'}, {'h', 'j'}, {'h', 'k'}]\n"
          ]
        }
      ],
      "source": [
        "class Graph:\n",
        "\n",
        "    def __init__(self, gdict=None):\n",
        "        if gdict is None:\n",
        "            gdict = {}\n",
        "        self.gdict = gdict\n",
        "\n",
        "    def edges(self):\n",
        "        return self.find_edges()\n",
        "\n",
        "    def find_edges(self):\n",
        "        edgename = []\n",
        "        for vrtx in self.gdict:\n",
        "            for nxtvrtx in self.gdict[vrtx]:\n",
        "                if {nxtvrtx, vrtx} not in edgename:\n",
        "                    edgename.append({vrtx, nxtvrtx})\n",
        "        return edgename\n",
        "\n",
        "graph_elements = {\n",
        "    \"e\": [\"i\", \"k\",\"j\",\"m\"],\n",
        "    \"f\": [\"j\", \"i\",\"k\",\"p\"],\n",
        "    \"h\": [\"i\", \"j\",\"k\"],\n",
        "    \"i\": [\"h\",\"e\",\"f\"],\n",
        "    \"j\": [\"h\",\"f\",\"e\"],\n",
        "    \"k\": [\"e\",\"f\",\"h\"],\n",
        "    \"m\": [\"e\"],\n",
        "    \"p\": [\"f\"],\n",
        "}\n",
        "\n",
        "g = Graph(graph_elements)\n",
        "print(g.edges())"
      ]
    },
    {
      "cell_type": "code",
      "source": [
        "class Graph:\n",
        "\n",
        "    def __init__(self, gdict=None):\n",
        "        if gdict is None:\n",
        "            gdict = {}\n",
        "        self.gdict = gdict\n",
        "\n",
        "    def getVertices(self):\n",
        "        return list(self.gdict.keys())\n",
        "\n",
        "graph_elements = {\n",
        "    \"e\": [\"i\", \"k\",\"j\",\"m\"],\n",
        "    \"f\": [\"j\", \"i\",\"k\",\"p\"],\n",
        "    \"h\": [\"i\", \"j\",\"k\"],\n",
        "    \"i\": [\"h\",\"e\",\"f\"],\n",
        "    \"j\": [\"h\",\"f\",\"e\"],\n",
        "    \"k\": [\"e\",\"f\",\"h\"],\n",
        "    \"m\": [\"e\"],\n",
        "    \"p\": [\"f\"],\n",
        "}\n",
        "\n",
        "g = Graph(graph_elements)\n",
        "print(g.getVertices())"
      ],
      "metadata": {
        "colab": {
          "base_uri": "https://localhost:8080/"
        },
        "id": "bCKonK2COb34",
        "outputId": "7590fb21-50da-44d0-cbda-7a244ffad620"
      },
      "execution_count": 3,
      "outputs": [
        {
          "output_type": "stream",
          "name": "stdout",
          "text": [
            "['e', 'f', 'h', 'i', 'j', 'k', 'm', 'p']\n"
          ]
        }
      ]
    }
  ]
}