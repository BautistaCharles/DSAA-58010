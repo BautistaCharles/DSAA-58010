{
  "nbformat": 4,
  "nbformat_minor": 0,
  "metadata": {
    "colab": {
      "provenance": [],
      "authorship_tag": "ABX9TyOwnTsvnYvmutbaCB/l6+L9",
      "include_colab_link": true
    },
    "kernelspec": {
      "name": "python3",
      "display_name": "Python 3"
    },
    "language_info": {
      "name": "python"
    }
  },
  "cells": [
    {
      "cell_type": "markdown",
      "metadata": {
        "id": "view-in-github",
        "colab_type": "text"
      },
      "source": [
        "<a href=\"https://colab.research.google.com/github/BautistaCharles/DSAA-58010/blob/main/Long_Quiz_1.ipynb\" target=\"_parent\"><img src=\"https://colab.research.google.com/assets/colab-badge.svg\" alt=\"Open In Colab\"/></a>"
      ]
    },
    {
      "cell_type": "code",
      "execution_count": 23,
      "metadata": {
        "colab": {
          "base_uri": "https://localhost:8080/"
        },
        "id": "hebS5DtiKmYK",
        "outputId": "73e11f66-e715-4d24-8f36-1d875cd0c029"
      },
      "outputs": [
        {
          "output_type": "stream",
          "name": "stdout",
          "text": [
            "a\n",
            "t\n",
            "s\n",
            "i\n",
            "t\n",
            "u\n",
            "a\n",
            "B\n",
            " \n",
            ".\n",
            "V\n",
            " \n",
            "n\n",
            "a\n",
            "y\n",
            "R\n",
            " \n",
            "s\n",
            "e\n",
            "l\n",
            "r\n",
            "a\n",
            "h\n",
            "C\n"
          ]
        }
      ],
      "source": [
        "full_name = \"Charles Ryan V. Bautista\"\n",
        "\n",
        "def reverse_name(text):\n",
        "    reversed = text[::-1]\n",
        "    for name in reversed:\n",
        "        print(name)\n",
        "\n",
        "reverse_name(full_name)"
      ]
    },
    {
      "cell_type": "code",
      "source": [
        "def prime_number(n):\n",
        "    if n < 2:\n",
        "        return False\n",
        "    for i in range(2, int(n**0.5) + 1):\n",
        "        if n % i == 0:\n",
        "            return False\n",
        "    return True\n",
        "\n",
        "for n in range(1, 11):\n",
        "    if prime_number(n):\n",
        "        print(f\"{n} is prime\")\n",
        "    else:\n",
        "        print(f\"{n} is composite\")"
      ],
      "metadata": {
        "colab": {
          "base_uri": "https://localhost:8080/"
        },
        "id": "tNxDRGABLlQe",
        "outputId": "b57c4c7a-fc2d-40b3-b02d-eda22d1e0ef1"
      },
      "execution_count": 22,
      "outputs": [
        {
          "output_type": "stream",
          "name": "stdout",
          "text": [
            "1 is composite\n",
            "2 is prime\n",
            "3 is prime\n",
            "4 is composite\n",
            "5 is prime\n",
            "6 is composite\n",
            "7 is prime\n",
            "8 is composite\n",
            "9 is composite\n",
            "10 is composite\n"
          ]
        }
      ]
    }
  ]
}