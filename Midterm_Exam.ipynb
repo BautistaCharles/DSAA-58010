{
  "nbformat": 4,
  "nbformat_minor": 0,
  "metadata": {
    "colab": {
      "provenance": [],
      "authorship_tag": "ABX9TyOW9vKoMLIpL8Nxg7HrBxY0",
      "include_colab_link": true
    },
    "kernelspec": {
      "name": "python3",
      "display_name": "Python 3"
    },
    "language_info": {
      "name": "python"
    }
  },
  "cells": [
    {
      "cell_type": "markdown",
      "metadata": {
        "id": "view-in-github",
        "colab_type": "text"
      },
      "source": [
        "<a href=\"https://colab.research.google.com/github/BautistaCharles/DSAA-58010/blob/main/Midterm_Exam.ipynb\" target=\"_parent\"><img src=\"https://colab.research.google.com/assets/colab-badge.svg\" alt=\"Open In Colab\"/></a>"
      ]
    },
    {
      "cell_type": "code",
      "execution_count": 8,
      "metadata": {
        "colab": {
          "base_uri": "https://localhost:8080/"
        },
        "id": "MYmmXXZunsx-",
        "outputId": "47caa538-62a5-468f-fd30-7da13cb6c29e"
      },
      "outputs": [
        {
          "output_type": "stream",
          "name": "stdout",
          "text": [
            "Edges =  [{'a', 'b'}, {'f', 'b'}, {'c', 'b'}, {'e', 'b'}, {'f', 'c'}, {'e', 'c'}, {'c', 'd'}, {'d', 'l'}, {'k', 'd'}, {'e', 'n'}, {'f', 'i'}, {'f', 'g'}, {'g', 'i'}, {'g', 'j'}, {'i', 'j'}, {'i', 'k'}, {'k', 'j'}, {'p', 'l'}, {'m', 'l'}, {'n', 'm'}, {'m', 'c'}, {'m', 'o'}, {'m', 'p'}, {'n', 'o'}, {'o', 'p'}]\n",
            "Veritcles = ['a', 'b', 'c', 'd', 'e', 'f', 'g', 'i', 'j', 'k', 'l', 'm', 'n', 'o', 'p']\n"
          ]
        }
      ],
      "source": [
        "class Graph:\n",
        "\n",
        "    def __init__(self, gdict=None):\n",
        "        if gdict is None:\n",
        "            gdict = {}\n",
        "        self.gdict = gdict\n",
        "\n",
        "    def edges(self):\n",
        "        return self.find_edges()\n",
        "\n",
        "    def getVertices(self):\n",
        "        return list(self.gdict.keys())\n",
        "\n",
        "    def find_edges(self):\n",
        "        edgename = []\n",
        "        for vrtx in self.gdict:\n",
        "            for nxtvrtx in self.gdict[vrtx]:\n",
        "                if {nxtvrtx, vrtx} not in edgename:\n",
        "                    edgename.append({vrtx, nxtvrtx})\n",
        "\n",
        "        return edgename\n",
        "\n",
        "graph_elements = {\n",
        "    \"a\": [\"b\"],\n",
        "    \"b\": [\"a\", \"f\",\"c\",\"e\"],\n",
        "    \"c\": [\"b\", \"f\",\"e\",\"d\"],\n",
        "    \"d\": [\"c\", \"l\",\"k\"],\n",
        "    \"e\": [\"b\", \"c\",\"n\"],\n",
        "    \"f\": [\"c\",\"i\",\"g\"],\n",
        "    \"g\": [\"f\",\"i\",\"j\"],\n",
        "    \"i\": [\"f\",\"g\",\"j\",\"k\"],\n",
        "    \"j\": [\"g\",\"i\",\"k\"],\n",
        "    \"k\": [\"i\",\"j\",\"d\"],\n",
        "    \"l\": [\"d\", \"p\",\"m\"],\n",
        "    \"m\": [\"n\", \"c\",\"o\",\"p\",\"l\"],\n",
        "    \"n\": [\"m\", \"e\",\"o\",],\n",
        "    \"o\": [\"m\", \"n\",\"p\",],\n",
        "    \"p\": [\"m\", \"o\",\"l\"],\n",
        "}\n",
        "\n",
        "g = Graph(graph_elements)\n",
        "print(\"Edges = \", g.edges())\n",
        "print(\"Veritcles =\", g.getVertices())"
      ]
    }
  ]
}