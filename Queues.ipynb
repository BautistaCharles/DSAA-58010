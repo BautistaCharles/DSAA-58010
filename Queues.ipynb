{
  "nbformat": 4,
  "nbformat_minor": 0,
  "metadata": {
    "colab": {
      "provenance": [],
      "authorship_tag": "ABX9TyNuIONFVPrY6TR8TtLKPhvd",
      "include_colab_link": true
    },
    "kernelspec": {
      "name": "python3",
      "display_name": "Python 3"
    },
    "language_info": {
      "name": "python"
    }
  },
  "cells": [
    {
      "cell_type": "markdown",
      "metadata": {
        "id": "view-in-github",
        "colab_type": "text"
      },
      "source": [
        "<a href=\"https://colab.research.google.com/github/BautistaCharles/DSAA-58010/blob/main/Queues.ipynb\" target=\"_parent\"><img src=\"https://colab.research.google.com/assets/colab-badge.svg\" alt=\"Open In Colab\"/></a>"
      ]
    },
    {
      "cell_type": "code",
      "execution_count": 8,
      "metadata": {
        "colab": {
          "base_uri": "https://localhost:8080/"
        },
        "id": "3Zj3bya2KNMz",
        "outputId": "4c338309-d6ec-4022-948a-da031cbad6e1"
      },
      "outputs": [
        {
          "output_type": "stream",
          "name": "stdout",
          "text": [
            "['A', 'B', 'C']\n",
            "[]\n"
          ]
        }
      ],
      "source": [
        "queue=[]\n",
        "#Insert element in the queue, enqueue\n",
        "\n",
        "queue.append('A')\n",
        "queue.append('B')\n",
        "queue.append('C')\n",
        "print(queue)\n",
        "\n",
        "#Removing element in the queue, dequeue\n",
        "queue.pop(0)\n",
        "queue.pop(0)\n",
        "queue.pop(0)\n",
        "print(queue)"
      ]
    }
  ]
}