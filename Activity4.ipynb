{
  "nbformat": 4,
  "nbformat_minor": 0,
  "metadata": {
    "colab": {
      "provenance": [],
      "authorship_tag": "ABX9TyMC9aYMMBz+Fd6myjTC9kDC",
      "include_colab_link": true
    },
    "kernelspec": {
      "name": "python3",
      "display_name": "Python 3"
    },
    "language_info": {
      "name": "python"
    }
  },
  "cells": [
    {
      "cell_type": "markdown",
      "metadata": {
        "id": "view-in-github",
        "colab_type": "text"
      },
      "source": [
        "<a href=\"https://colab.research.google.com/github/BautistaCharles/DSAA-58010/blob/main/Activity4.ipynb\" target=\"_parent\"><img src=\"https://colab.research.google.com/assets/colab-badge.svg\" alt=\"Open In Colab\"/></a>"
      ]
    },
    {
      "cell_type": "code",
      "execution_count": 18,
      "metadata": {
        "colab": {
          "base_uri": "https://localhost:8080/"
        },
        "id": "r_mub98HNuOd",
        "outputId": "539f526d-8b41-4982-bc11-32b969a6582f"
      },
      "outputs": [
        {
          "output_type": "stream",
          "name": "stdout",
          "text": [
            "Enqueued: 0\n",
            "Enqueued: 2\n",
            "Enqueued: 4\n",
            "Enqueued: 6\n",
            "Enqueued: 8\n",
            "Enqueued: 10\n",
            "Enqueued: 12\n",
            "Enqueued: 14\n",
            "Enqueued: 16\n",
            "Enqueued: 18\n",
            "Enqueued: 20\n",
            "Enqueued: 22\n",
            "Enqueued: 24\n",
            "Enqueued: 26\n",
            "Enqueued: 28\n",
            "Enqueued: 30\n",
            "Enqueued: 32\n",
            "Enqueued: 34\n",
            "Enqueued: 36\n",
            "Enqueued: 38\n",
            "Enqueued: 40\n",
            "Enqueued: 42\n",
            "Enqueued: 44\n",
            "Enqueued: 46\n",
            "Enqueued: 48\n",
            "Enqueued: 50\n",
            "Dequeue: 50\n",
            "Dequeue: 48\n",
            "Dequeue: 46\n",
            "Dequeue: 44\n",
            "Dequeue: 42\n",
            "Dequeue: 40\n",
            "Dequeue: 38\n",
            "Dequeue: 36\n",
            "Dequeue: 34\n",
            "Dequeue: 32\n",
            "Dequeue: 30\n",
            "Dequeue: 28\n",
            "Dequeue: 26\n",
            "Dequeue: 24\n",
            "Dequeue: 22\n",
            "Dequeue: 20\n",
            "Dequeue: 18\n",
            "Dequeue: 16\n",
            "Dequeue: 14\n",
            "Dequeue: 12\n",
            "Dequeue: 10\n",
            "Dequeue: 8\n",
            "Dequeue: 6\n",
            "Dequeue: 4\n",
            "Dequeue: 2\n",
            "Dequeue: 0\n"
          ]
        }
      ],
      "source": [
        "def Number_Even():\n",
        "    Numbers = []\n",
        "\n",
        "    for num in list(range(0, 51)):\n",
        "        if num % 2 == 0:\n",
        "            Numbers.append(num)\n",
        "\n",
        "    return Numbers\n",
        "\n",
        "Numbers = Number_Even()\n",
        "\n",
        "for num in Numbers:\n",
        "    print(\"Enqueued:\", num)\n",
        "\n",
        "def Number_dequeue():\n",
        "    while Numbers:\n",
        "        num = Numbers.pop()\n",
        "        print(\"Dequeue:\", num)\n",
        "\n",
        "Number_dequeue()\n"
      ]
    }
  ]
}